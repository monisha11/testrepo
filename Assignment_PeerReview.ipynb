{
 "cells": [
  {
   "cell_type": "markdown",
   "id": "6c0df3d6-cddc-491e-8dcc-ea8997c2596e",
   "metadata": {},
   "source": [
    "# My Jupyter Notebook on IBM Watson Studio"
   ]
  },
  {
   "cell_type": "markdown",
   "id": "31a7b0f8-052d-4cab-8917-4257c1ea110e",
   "metadata": {},
   "source": [
    "__Monisha Dass__ <br>\n",
    "Senior Software Engineer"
   ]
  },
  {
   "cell_type": "markdown",
   "id": "cb283e50-8900-4f37-ad58-c09a44241420",
   "metadata": {},
   "source": [
    "*I am interested in data science because I love to work with data*"
   ]
  },
  {
   "cell_type": "markdown",
   "id": "2b3ef2c0-6192-4419-8606-71654fa7e1a1",
   "metadata": {},
   "source": [
    "### cell5 will Print a string \\\"Hello IBM\\\""
   ]
  },
  {
   "cell_type": "code",
   "execution_count": 3,
   "id": "b7f5e3a5-3ba9-4083-b589-9867ca73c1a4",
   "metadata": {},
   "outputs": [
    {
     "name": "stdout",
     "output_type": "stream",
     "text": [
      "Hello IBM\n"
     ]
    }
   ],
   "source": [
    "print (\"Hello IBM\")"
   ]
  },
  {
   "cell_type": "markdown",
   "id": "d5fbb061-7caf-4c4a-bd32-4b6a776b72c7",
   "metadata": {},
   "source": [
    " Hi, I am Monisha <br> ~~I'm bored.~~ *No, I'm not.*\n",
    " 1. My Linkedin : <https://www.linkedin.com/in/monishadass13/> <br>\n",
    " 2. Email : <monishadass95@gmail.com>"
   ]
  },
  {
   "cell_type": "code",
   "execution_count": null,
   "id": "641589ff-66b6-443e-9f6c-f16915fc683f",
   "metadata": {},
   "outputs": [],
   "source": []
  }
 ],
 "metadata": {
  "kernelspec": {
   "display_name": "Python",
   "language": "python",
   "name": "conda-env-python-py"
  },
  "language_info": {
   "codemirror_mode": {
    "name": "ipython",
    "version": 3
   },
   "file_extension": ".py",
   "mimetype": "text/x-python",
   "name": "python",
   "nbconvert_exporter": "python",
   "pygments_lexer": "ipython3",
   "version": "3.7.12"
  }
 },
 "nbformat": 4,
 "nbformat_minor": 5
}
